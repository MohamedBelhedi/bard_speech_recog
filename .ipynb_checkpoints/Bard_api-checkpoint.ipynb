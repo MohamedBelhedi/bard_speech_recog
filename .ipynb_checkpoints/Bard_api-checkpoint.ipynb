{
 "cells": [
  {
   "cell_type": "code",
   "execution_count": 14,
   "id": "6b999b6e",
   "metadata": {},
   "outputs": [],
   "source": [
    "!pip install bardapi\n",
    "!pip install Speechrecognition\n",
    "#if not working the speechrecognition !pip install pyaudio"
   ]
  },
  {
   "cell_type": "markdown",
   "id": "dca97158",
   "metadata": {},
   "source": [
    "<h1>Intruction</h1>\n",
    "<p>In the link below you finde the Step by step Instruction from the inofficial Bard API have fun with it</p>\n",
    "<a href=\"https://github.com/dsdanielpark/Bard-API\">Inofficial Bard API</a>"
   ]
  },
  {
   "cell_type": "code",
   "execution_count": 22,
   "id": "fd384cb1",
   "metadata": {},
   "outputs": [],
   "source": [
    "from bardapi import Bard\n",
    "import pyttsx3\n",
    "import speech_recognition as sr\n",
    "\n",
    "key=\"xxxxxxxxx your token you should copy the value from F12=>cookies=>__Secure-1PSID=>copy the Value this will be your token\"\n",
    "r=sr.Recognizer()\n",
    "mic=sr.Microphone()\n",
    "\n",
    "\n"
   ]
  },
  {
   "cell_type": "code",
   "execution_count": 23,
   "id": "286f768c",
   "metadata": {},
   "outputs": [],
   "source": [
    "# engine=pyttsx3.init()\n"
   ]
  },
  {
   "cell_type": "code",
   "execution_count": 24,
   "id": "2ffdcb59",
   "metadata": {},
   "outputs": [
    {
     "name": "stdout",
     "output_type": "stream",
     "text": [
      "result2:\n",
      "{   'alternative': [   {   'confidence': 0.73548555,\n",
      "                           'transcript': 'predict me the electricity cost of '\n",
      "                                         'Germany 2024'},\n",
      "                       {   'transcript': 'critics me the electricity cost of '\n",
      "                                         'Germany 2024'},\n",
      "                       {   'transcript': 'protect me the electricity cost of '\n",
      "                                         'Germany 2024'},\n",
      "                       {   'transcript': 'text me the electricity cost of '\n",
      "                                         'Germany 2024'},\n",
      "                       {   'transcript': 'Britax me the electricity cost of '\n",
      "                                         'Germany 2024'}],\n",
      "    'final': True}\n",
      "predict me the electricity cost of Germany 2024\n",
      "Sure, I can help you with that.\n",
      "\n",
      "According to the sources I have reviewed, the electricity cost in Germany in 2024 is expected to be around €80-90 per megawatt hour (MWh). This is based on the assumption that the current energy crisis will have subsided by then and that the government's energy price brakes will remain in place.\n",
      "\n",
      "Of course, this is just a forecast and the actual price could be higher or lower. The factors that could affect the price include the following:\n",
      "\n",
      "* The price of natural gas, which is a major input for electricity generation.\n",
      "* The level of renewable energy production in Germany.\n",
      "* The government's energy policy.\n",
      "\n",
      "Overall, it is likely that electricity prices in Germany will remain higher than they were before the energy crisis. However, the government's measures to help consumers and businesses should help to mitigate the impact of these higher prices.\n",
      "\n",
      "Here is a table of the predicted electricity prices in Germany for 2024:\n",
      "\n",
      "| Price per MWh |\n",
      "|---|---|\n",
      "| €80-90 |\n",
      "\n",
      "I hope this helps! Let me know if you have any other questions.\n"
     ]
    }
   ],
   "source": [
    "with mic as source:\n",
    "    audio=r.listen(source)\n",
    "    query=r.recognize_google(audio)\n",
    "    print(query)\n",
    "\n",
    "    bard=Bard(token=key)\n",
    "    answer=bard.get_answer(query)[\"content\"]\n",
    "    print(answer)"
   ]
  },
  {
   "cell_type": "code",
   "execution_count": null,
   "id": "6491414c",
   "metadata": {},
   "outputs": [],
   "source": []
  },
  {
   "cell_type": "code",
   "execution_count": null,
   "id": "f2b5cc6a",
   "metadata": {},
   "outputs": [],
   "source": []
  },
  {
   "cell_type": "code",
   "execution_count": null,
   "id": "8e1eea31",
   "metadata": {},
   "outputs": [],
   "source": []
  },
  {
   "cell_type": "code",
   "execution_count": null,
   "id": "5ae32ec3",
   "metadata": {},
   "outputs": [],
   "source": []
  },
  {
   "cell_type": "code",
   "execution_count": null,
   "id": "d4696cdb",
   "metadata": {},
   "outputs": [],
   "source": []
  },
  {
   "cell_type": "code",
   "execution_count": null,
   "id": "81597e19",
   "metadata": {},
   "outputs": [],
   "source": []
  },
  {
   "cell_type": "code",
   "execution_count": null,
   "id": "61e80772",
   "metadata": {},
   "outputs": [],
   "source": [
    "\n",
    "    "
   ]
  }
 ],
 "metadata": {
  "kernelspec": {
   "display_name": "Python 3 (ipykernel)",
   "language": "python",
   "name": "python3"
  },
  "language_info": {
   "codemirror_mode": {
    "name": "ipython",
    "version": 3
   },
   "file_extension": ".py",
   "mimetype": "text/x-python",
   "name": "python",
   "nbconvert_exporter": "python",
   "pygments_lexer": "ipython3",
   "version": "3.9.12"
  }
 },
 "nbformat": 4,
 "nbformat_minor": 5
}
